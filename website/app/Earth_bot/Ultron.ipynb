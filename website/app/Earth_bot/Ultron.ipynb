{
 "cells": [
  {
   "cell_type": "code",
   "execution_count": null,
   "id": "20c6298a",
   "metadata": {},
   "outputs": [],
   "source": [
    "#core libraries\n",
    "import pandas as pd\n",
    "import numpy as np\n",
    "import matplotlib.pyplot as plt\n",
    "import seaborn as sns\n",
    "\n",
    "\n",
    "#ML libraries\n",
    "from sklearn.model_selection import train_test_split\n",
    "from sklearn.tree import DecisionTreeClassifier\n",
    "from sklearn.linear_model import LogisticRegression\n",
    "from sklearn.metrics import classification_report, confusion_matrix, accuracy_score\n",
    "\n",
    "df = pd.read_csv('/Users/jacobsamuelgraham/Desktop/portfolio/website/app/Earth_bot/data/exoplanets.csv')\n",
    "print(df.head())\n",
    "\n",
    "print(df.isnull().sum)\n",
    "\n",
    "#drop rows with missing radius/temp \n",
    "df_clean = df.dropna(subset=['pl_rade', 'pl_eqt'])\n",
    "\n",
    "#Earth-like lable< radius <2 Earth radii AND temp between 250k and 350k\n",
    "df_clean['earth_like'] = ((df_clean['pl_rade'] < 2) & (df_clean['pl_eqt'] >= 250) & (df_clean['pl_eqt'] <= 350)).astype(int)\n",
    "\n",
    "\n",
    "#show examples\n",
    "print(df_clean[['pl_name', 'pl_rade', 'pl_eqt', 'earth_like']].head(10))\n"
   ]
  },
  {
   "cell_type": "code",
   "execution_count": null,
   "id": "60504671",
   "metadata": {},
   "outputs": [],
   "source": [
    "from sklearn.model_selection import train_test_split\n",
    "from sklearn.tree import DecisionTreeClassifier\n",
    "from sklearn.linear_model import LogisticRegression\n",
    "from sklearn.metrics import classification_report, confusion_matrix, accuracy_score\n",
    "\n",
    "#features/label\n",
    "features = ['pl_rade', 'pl_eqt']\n",
    "X = df_clean[features]\n",
    "y = df_clean['earth_like']\n",
    "\n",
    "\n",
    "#splite into training and test sets\n",
    "X_train, X_test, y_train, y_test = train_test_split(X, y, test_size = 0.2, random_state = 42)\n",
    "log_reg = LogisticRegression()\n",
    "log_reg.fit(X_train, y_train)\n",
    "log_preds = log_reg.predict(X_test)\n",
    "\n",
    "print(\"Logistic regression classification report: \")\n",
    "print(classification_report(y_test, log_preds))\n",
    "\n",
    "tree = DecisionTreeClassifier(max_depth = 5)\n",
    "tree.fit(X_train, y_train)\n",
    "tree_preds = tree.predict(X_test)\n",
    "\n",
    "print(\"decision tree classification report: \")\n",
    "print(classification_report(y_test, tree_preds))"
   ]
  }
 ],
 "metadata": {
  "kernelspec": {
   "display_name": "base",
   "language": "python",
   "name": "python3"
  },
  "language_info": {
   "codemirror_mode": {
    "name": "ipython",
    "version": 3
   },
   "file_extension": ".py",
   "mimetype": "text/x-python",
   "name": "python",
   "nbconvert_exporter": "python",
   "pygments_lexer": "ipython3",
   "version": "3.9.13"
  }
 },
 "nbformat": 4,
 "nbformat_minor": 5
}
